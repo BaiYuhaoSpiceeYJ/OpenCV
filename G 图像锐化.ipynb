{
 "cells": [
  {
   "cell_type": "code",
   "execution_count": 3,
   "metadata": {},
   "outputs": [
    {
     "data": {
      "text/plain": [
       "-1"
      ]
     },
     "execution_count": 3,
     "metadata": {},
     "output_type": "execute_result"
    }
   ],
   "source": [
    "import cv2\n",
    "import numpy as np\n",
    "import random\n",
    "S = cv2.imread('1.jpg',1)\n",
    "imgInfo = S.shape\n",
    "height = imgInfo[0]\n",
    "width = imgInfo[1]\n",
    "threshold = 50\n",
    "amount = 35\n",
    "\n",
    "G = cv2.GaussianBlur(S,(5,5),0) \n",
    "change = np.zeros(S.shape,np.uint8)\n",
    "mask = np.zeros((height,width,1),np.uint8)\n",
    "D = np.zeros(S.shape,np.uint8)\n",
    "\n",
    "\n",
    "for i in range(0,height):#计算差并转为灰色\n",
    "    for j in range(0,width):\n",
    "        (sb,sg,sr) = S[i,j]\n",
    "        (gb,gg,gr) = G[i,j]\n",
    "        change[i,j] = (abs(int(sb)-int(gb)),abs(int(sg)-int(gg)),abs(int(sr)-int(gr)))\n",
    "changeGray = cv2.cvtColor(change,cv2.COLOR_BGR2GRAY)\n",
    "\n",
    "\n",
    "for i in range(0,height):#与阈值比较，并输入mask\n",
    "    for j in range(0,width):\n",
    "        if changeGray[i,j] > threshold:\n",
    "            mask[i,j] = 255\n",
    "alpha = cv2.GaussianBlur(mask,(5,5),0)\n",
    "\n",
    "\n",
    "for i in range(0,height):#输出最终结果\n",
    "    for j in range(0,width):\n",
    "        (sb,sg,sr) = S[i,j]\n",
    "        sb=int(sb)\n",
    "        sg=int(sg)\n",
    "        sr=int(sr)\n",
    "        (kb,kg,kr) = S[i,j]+amount*change[i,j]\n",
    "        kb=int(kb)\n",
    "        kg=int(kg)\n",
    "        kr=int(kr)\n",
    "        b = (kb*alpha[i,j] + sb*(255-alpha[i,j]))/255\n",
    "        g = (kg*alpha[i,j] + sg*(255-alpha[i,j]))/255\n",
    "        r = (kr*alpha[i,j] + sr*(255-alpha[i,j]))/255\n",
    "        b=int(b)\n",
    "        g=int(g)\n",
    "        r=int(r)\n",
    "        D[i,j] = (b,g,r)\n",
    "        \n",
    "\n",
    "\n",
    "cv2.imshow('img',D)\n",
    "cv2.imwrite('ruihua.jpg',D)\n",
    "cv2.waitKey(0)"
   ]
  },
  {
   "cell_type": "code",
   "execution_count": null,
   "metadata": {},
   "outputs": [],
   "source": []
  },
  {
   "cell_type": "code",
   "execution_count": null,
   "metadata": {},
   "outputs": [],
   "source": []
  }
 ],
 "metadata": {
  "kernelspec": {
   "display_name": "Python 3",
   "language": "python",
   "name": "python3"
  },
  "language_info": {
   "codemirror_mode": {
    "name": "ipython",
    "version": 3
   },
   "file_extension": ".py",
   "mimetype": "text/x-python",
   "name": "python",
   "nbconvert_exporter": "python",
   "pygments_lexer": "ipython3",
   "version": "3.6.5"
  }
 },
 "nbformat": 4,
 "nbformat_minor": 2
}
