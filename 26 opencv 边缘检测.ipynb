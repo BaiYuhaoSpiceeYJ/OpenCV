{
 "cells": [
  {
   "cell_type": "code",
   "execution_count": 16,
   "metadata": {},
   "outputs": [
    {
     "data": {
      "text/plain": [
       "-1"
      ]
     },
     "execution_count": 16,
     "metadata": {},
     "output_type": "execute_result"
    }
   ],
   "source": [
    "import cv2\n",
    "import numpy as np\n",
    "import random\n",
    "img = cv2.imread('1.jpg',1)\n",
    "imgInfo = img.shape\n",
    "height = imgInfo[0]\n",
    "width = imgInfo[1]\n",
    "gray = cv2.cvtColor(img,cv2.COLOR_BGR2GRAY)\n",
    "imgG = cv2.GaussianBlur(gray,(3,3),0) #1.灰度数据 2.模板大小\n",
    "#cv2.imshow('Gauss',imgG)\n",
    "dst0 = cv2.Canny(img,100,100)#1.数据 2.门限 3.门限 卷积后大于门限 则判断为边缘点\n",
    "dst = cv2.Canny(imgG,100,100)\n",
    "cv2.imshow('dst',dst)\n",
    "cv2.imshow('dst0',dst0)\n",
    "cv2.waitKey(0)"
   ]
  },
  {
   "cell_type": "code",
   "execution_count": 21,
   "metadata": {},
   "outputs": [
    {
     "data": {
      "text/plain": [
       "-1"
      ]
     },
     "execution_count": 21,
     "metadata": {},
     "output_type": "execute_result"
    }
   ],
   "source": [
    "import cv2\n",
    "import numpy as np\n",
    "import random\n",
    "import math\n",
    "img = cv2.imread('1.jpg',1)\n",
    "imgInfo = img.shape\n",
    "height = imgInfo[0]\n",
    "width = imgInfo[1]\n",
    "gray = cv2.cvtColor(img,cv2.COLOR_BGR2GRAY)\n",
    "dst = np.zeros((height-2,width-2,1),np.uint8)\n",
    "#sober竖直算子[ [1 2 1][0 0 0][-1 -2 -1]]\n",
    "#sober水平算子[[1 0 -1][2 0 -2][1 0 -1]]\n",
    "for i in range(0,height-2):\n",
    "    for j in range(0,width-2):\n",
    "        gradY = gray[i,j]+gray[i,j+1]*2+gray[i,j+2]-gray[i+2,j]-gray[i+2,j+1]*2-gray[i+2,j+2]\n",
    "        gradX = gray[i,j]+gray[i+1,j]*2+gray[i+2,j]-gray[i,j+2]-gray[i+1,j+2]*2-gray[i+2,j+2]\n",
    "        grad = math.sqrt(gradX*gradX+gradY*gradY)\n",
    "        if grad>100:\n",
    "            dst[i,j] = 255\n",
    "        else:\n",
    "            dst[i,j] = 0\n",
    "cv2.imshow('dst',dst)\n",
    "cv2.imwrite('edge.jpg',dst)\n",
    "cv2.waitKey(0)"
   ]
  },
  {
   "cell_type": "code",
   "execution_count": 18,
   "metadata": {},
   "outputs": [
    {
     "data": {
      "text/plain": [
       "-1"
      ]
     },
     "execution_count": 18,
     "metadata": {},
     "output_type": "execute_result"
    }
   ],
   "source": [
    "import cv2\n",
    "import numpy as np\n",
    "import random\n",
    "import math\n",
    "img = cv2.imread('1.jpg',0)\n",
    "imgInfo = img.shape\n",
    "height = imgInfo[0]\n",
    "width = imgInfo[1]\n",
    "gray = img\n",
    "dst = np.zeros((height,width,1),np.uint8)\n",
    "#sober竖直算子[ [1 2 1][0 0 0][-1 -2 -1]]\n",
    "#sober水平算子[[1 0 -1][2 0 -2][1 0 -1]]\n",
    "for i in range(0,height-2):\n",
    "    for j in range(0,width-2):\n",
    "        gradY = gray[i,j]+gray[i,j+1]*2+gray[i,j+2]-gray[i+2,j]-gray[i+2,j+1]*2-gray[i+2,j+2]\n",
    "        gradX = gray[i,j]+gray[i+1,j]*2+gray[i+2,j]-gray[i,j+2]-gray[i+1,j+2]*2-gray[i+2,j+2]\n",
    "        grad = math.sqrt(gradX*gradX+gradY*gradY)\n",
    "        if grad>100:\n",
    "            dst[i,j] = 255\n",
    "        else:\n",
    "            dst[i,j] = 0\n",
    "cv2.imshow('dst',dst)\n",
    "cv2.waitKey(0)"
   ]
  },
  {
   "cell_type": "code",
   "execution_count": null,
   "metadata": {},
   "outputs": [],
   "source": []
  }
 ],
 "metadata": {
  "kernelspec": {
   "display_name": "Python 3",
   "language": "python",
   "name": "python3"
  },
  "language_info": {
   "codemirror_mode": {
    "name": "ipython",
    "version": 3
   },
   "file_extension": ".py",
   "mimetype": "text/x-python",
   "name": "python",
   "nbconvert_exporter": "python",
   "pygments_lexer": "ipython3",
   "version": "3.6.5"
  }
 },
 "nbformat": 4,
 "nbformat_minor": 2
}
