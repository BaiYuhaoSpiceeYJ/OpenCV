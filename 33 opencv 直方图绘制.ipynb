{
 "cells": [
  {
   "cell_type": "code",
   "execution_count": 1,
   "metadata": {},
   "outputs": [
    {
     "data": {
      "text/plain": [
       "-1"
      ]
     },
     "execution_count": 1,
     "metadata": {},
     "output_type": "execute_result"
    }
   ],
   "source": [
    "import cv2\n",
    "import numpy as np\n",
    "def ImageHist(image,type):#函数声明\n",
    "    color = (255,255,255)\n",
    "    windowName = 'Gray'\n",
    "    if type == 31:\n",
    "        color = (255,0,0)\n",
    "        windowName = 'B Hist'\n",
    "    elif type == 32:\n",
    "        color = (0,255,0)\n",
    "        windowName = 'G Hist'\n",
    "    elif type == 33:\n",
    "        color = (0,0,255)\n",
    "        windowName = 'R Hist'\n",
    "        \n",
    "    hist = cv2.calcHist([image],[0],None,[256],[0,255])\n",
    "    #统计直方图 1：数据 2：计算通道，灰度0 3：蒙版 4：分成多少分 5：0-255像素的便利\n",
    "    minV,maxV,minL,maxL = cv2.minMaxLoc(hist)#获取最大最小值以及下标\n",
    "    histImg = np.zeros([256,256,3],np.uint8)\n",
    "    for h in range(256):\n",
    "        intenNormal = int(hist[h]*256/maxV)#归一化\n",
    "        cv2.line(histImg,(h,256),(h,256-intenNormal),color)\n",
    "    cv2.imshow(windowName,histImg)\n",
    "    return histImg\n",
    "\n",
    "img = cv2.imread('1.jpg',1)\n",
    "gray = cv2.cvtColor(img,cv2.COLOR_BGR2GRAY)\n",
    "channels = cv2.split(img)#rgb分解为r,g,b\n",
    "for i in range(0,3):\n",
    "    ImageHist(channels[i],31+i)\n",
    "ImageHist(gray,0)\n",
    "cv2.waitKey(0)"
   ]
  },
  {
   "cell_type": "code",
   "execution_count": null,
   "metadata": {},
   "outputs": [],
   "source": []
  },
  {
   "cell_type": "code",
   "execution_count": null,
   "metadata": {},
   "outputs": [],
   "source": []
  }
 ],
 "metadata": {
  "kernelspec": {
   "display_name": "Python 3",
   "language": "python",
   "name": "python3"
  },
  "language_info": {
   "codemirror_mode": {
    "name": "ipython",
    "version": 3
   },
   "file_extension": ".py",
   "mimetype": "text/x-python",
   "name": "python",
   "nbconvert_exporter": "python",
   "pygments_lexer": "ipython3",
   "version": "3.6.5"
  }
 },
 "nbformat": 4,
 "nbformat_minor": 2
}
