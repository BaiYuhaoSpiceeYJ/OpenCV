{
 "cells": [
  {
   "cell_type": "code",
   "execution_count": 24,
   "metadata": {},
   "outputs": [
    {
     "data": {
      "text/plain": [
       "-1"
      ]
     },
     "execution_count": 24,
     "metadata": {},
     "output_type": "execute_result"
    }
   ],
   "source": [
    "import cv2\n",
    "import numpy as np\n",
    "img = cv2.imread('1.jpg',1)\n",
    "#cv2.imshow('src',img)\n",
    "imgInfo = img.shape\n",
    "height = imgInfo[0]\n",
    "width = imgInfo[1]\n",
    "rayon = 60\n",
    "for i in range(100,600):\n",
    "    for j in range(300,500):\n",
    "         if i%rayon==0 and j%rayon==0:\n",
    "                for m in range(0,rayon):\n",
    "                    for n in range(0,rayon):\n",
    "                        (b,g,r)=img[i,j]\n",
    "                        img[i+m,j+n]=(b,g,r)\n",
    "cv2.imshow('dst',img)\n",
    "cv2.imwrite('masaike1.jpg',img)\n",
    "cv2.waitKey(0)"
   ]
  },
  {
   "cell_type": "code",
   "execution_count": 25,
   "metadata": {},
   "outputs": [
    {
     "data": {
      "text/plain": [
       "-1"
      ]
     },
     "execution_count": 25,
     "metadata": {},
     "output_type": "execute_result"
    }
   ],
   "source": [
    "import cv2\n",
    "import numpy as np\n",
    "img = cv2.imread('1.jpg',1)\n",
    "#cv2.imshow('src',img)\n",
    "imgInfo = img.shape\n",
    "height = imgInfo[0]\n",
    "width = imgInfo[1]\n",
    "rayon = 30\n",
    "for i in range(100,600):\n",
    "    for j in range(300,500):\n",
    "        if i%rayon==0 and j%rayon==0:\n",
    "                totalB=0\n",
    "                totalG=0\n",
    "                totalR=0\n",
    "                for m in range(0,rayon):\n",
    "                    for n in range(0,rayon):\n",
    "                        (b,g,r)=img[i+m,j+n]\n",
    "                        totalB+=b\n",
    "                        totalG+=g\n",
    "                        totalR+=r\n",
    "                for m in range(0,rayon):\n",
    "                    for n in range(0,rayon):\n",
    "                        img[i+m,j+n]=(totalB/(rayon*rayon),totalG/(rayon*rayon),totalR/(rayon*rayon))\n",
    "cv2.imshow('dst2',img)\n",
    "cv2.imwrite('masaike2.jpg',img)\n",
    "cv2.waitKey(0)"
   ]
  },
  {
   "cell_type": "code",
   "execution_count": null,
   "metadata": {},
   "outputs": [],
   "source": []
  }
 ],
 "metadata": {
  "kernelspec": {
   "display_name": "Python 3",
   "language": "python",
   "name": "python3"
  },
  "language_info": {
   "codemirror_mode": {
    "name": "ipython",
    "version": 3
   },
   "file_extension": ".py",
   "mimetype": "text/x-python",
   "name": "python",
   "nbconvert_exporter": "python",
   "pygments_lexer": "ipython3",
   "version": "3.6.5"
  }
 },
 "nbformat": 4,
 "nbformat_minor": 2
}
