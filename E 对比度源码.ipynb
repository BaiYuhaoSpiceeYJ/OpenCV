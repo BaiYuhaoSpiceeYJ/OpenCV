{
 "cells": [
  {
   "cell_type": "code",
   "execution_count": 19,
   "metadata": {},
   "outputs": [
    {
     "name": "stdout",
     "output_type": "stream",
     "text": [
      "130.44419753076895\n",
      "137.14740329162052\n"
     ]
    },
    {
     "data": {
      "image/png": "[encoded data removed]",
      "text/plain": [
       "<Figure size 432x288 with 1 Axes>"
      ]
     },
     "metadata": {},
     "output_type": "display_data"
    },
    {
     "data": {
      "image/png": "[encoded data removed]",
      "text/plain": [
       "<Figure size 432x288 with 1 Axes>"
      ]
     },
     "metadata": {},
     "output_type": "display_data"
    },
    {
     "data": {
      "text/plain": [
       "-1"
      ]
     },
     "execution_count": 19,
     "metadata": {},
     "output_type": "execute_result"
    }
   ],
   "source": [
    "import cv2\n",
    "import numpy as np\n",
    "import matplotlib.pyplot as plt\n",
    "img = cv2.imread('1.jpg',1)\n",
    "imgInfo = img.shape\n",
    "height = imgInfo[0]\n",
    "width = imgInfo[1]\n",
    "gray = cv2.cvtColor(img,cv2.COLOR_BGR2GRAY)\n",
    "dst = np.zeros(img.shape,np.uint8)\n",
    "dst_gray = np.zeros((height,width,1),np.uint8)\n",
    "count = np.zeros(256,np.float32)\n",
    "area_threshold = np.float32(0.2)#阈值，找到积分对应点，确定图像的直方图拉伸范围,为次要参数\n",
    "rflxChange = 60#改变量百分比，确定图像的直方图伸缩比例，为主要参数\n",
    "rflxChange /= 100\n",
    "\n",
    "\n",
    "totalGray=np.float32(0)\n",
    "for i in range(0,height):#计算概率分布\n",
    "    for j in range(0,width):\n",
    "        pixel = gray[i,j]\n",
    "        index = int(pixel)\n",
    "        count[index]+=1\n",
    "        totalGray+=gray[i,j]/height/width\n",
    "print(totalGray)\n",
    "        \n",
    "    \n",
    "for i in range(0,256):#归一化\n",
    "    count[i] /=height*width\n",
    "sumCount = float(0)\n",
    "newCount = np.zeros(256,np.float32)\n",
    "for i in range(0,255):#概率分布积分\n",
    "    sumCount+=count[i]\n",
    "    newCount[i]=sumCount\n",
    "    \n",
    "    \n",
    "area_up = 0  #找到映射上下界算mid,其实还有多种方法算mid\n",
    "area_down = 0\n",
    "for i in range(0,255):\n",
    "    if newCount[i]<=area_threshold and newCount[i+1]>=area_threshold:\n",
    "        area_down = i\n",
    "    if newCount[i]<=1-area_threshold and newCount[i+1]>=1-area_threshold:\n",
    "        area_up = i\n",
    "    area_mid =(area_down+area_up)/2 \n",
    "    #if newCount[i]<=0.5 and newCount[i+1]>=0.5:\n",
    "        #area_mid = i\n",
    "    #area_mid =127\n",
    "\n",
    "    \n",
    "newTotalGray=np.float32(0)\n",
    "for i in range(0,height):                 #计算映射表及映射\n",
    "    for j in range(0,width):\n",
    "        newGray=area_mid-(area_mid-gray[i,j])*(1+rflxChange)\n",
    "        if newGray > 255:\n",
    "            newGray=255\n",
    "        if newGray < 0:\n",
    "            newGray=0\n",
    "        dst_gray[i,j]=newGray\n",
    "        newTotalGray+=newGray/height/width\n",
    "print(newTotalGray)\n",
    "        \n",
    "        \n",
    "for i in range(0,height): #GRAY2BGR\n",
    "    for j in range(0,width):\n",
    "        (b,g,r) = img[i,j]\n",
    "        if gray[i,j]!=0:\n",
    "            b*= dst_gray[i,j]/gray[i,j]*(totalGray/newTotalGray) #保证亮度不变\n",
    "            g*= dst_gray[i,j]/gray[i,j]*(totalGray/newTotalGray)\n",
    "            r*= dst_gray[i,j]/gray[i,j]*(totalGray/newTotalGray)\n",
    "            if b>255:\n",
    "                b=255\n",
    "            if b<0:\n",
    "                b=0\n",
    "            if g>255:\n",
    "                g=255\n",
    "            if g<0:\n",
    "                g=0\n",
    "            if r>255:\n",
    "                r=255\n",
    "            if r<0:\n",
    "                r=0\n",
    "        dst[i,j] = (b,g,r)\n",
    "\n",
    "\n",
    "count = np.zeros(256,np.float32)#输出原图直方图\n",
    "for i in range(0,height):\n",
    "    for j in range(0,width):\n",
    "        pixel = gray[i,j]\n",
    "        index = int(pixel)\n",
    "        count[index]+=1\n",
    "for i in range(0,256):\n",
    "    count[i] /=height*width\n",
    "x = np.linspace(0,255,256)#0-255,256等分\n",
    "y = count\n",
    "plt.bar(x,y,1.0,alpha=1,color='g')\n",
    "plt.show()\n",
    "plt.figure()\n",
    "\n",
    "\n",
    "count = np.zeros(256,np.float32)#输出新图直方图\n",
    "for i in range(0,height):\n",
    "    for j in range(0,width):\n",
    "        pixel = dst_gray[i,j]\n",
    "        index = int(pixel)\n",
    "        count[index]+=1\n",
    "for i in range(0,256):\n",
    "    count[i] /=height*width\n",
    "x = np.linspace(0,255,256)#0-255,256等分\n",
    "y = count\n",
    "plt.bar(x,y,1.0,alpha=1,color='g')\n",
    "plt.show()\n",
    "\n",
    "        \n",
    "cv2.imshow('dst',dst)\n",
    "cv2.imshow('src',img)\n",
    "cv2.imwrite('contrast.jpg',dst)\n",
    "cv2.waitKey(0)\n",
    "        \n",
    "    \n",
    "    \n",
    "    \n"
   ]
  },
  {
   "cell_type": "code",
   "execution_count": null,
   "metadata": {},
   "outputs": [],
   "source": []
  }
 ],
 "metadata": {
  "kernelspec": {
   "display_name": "Python 3",
   "language": "python",
   "name": "python3"
  },
  "language_info": {
   "codemirror_mode": {
    "name": "ipython",
    "version": 3
   },
   "file_extension": ".py",
   "mimetype": "text/x-python",
   "name": "python",
   "nbconvert_exporter": "python",
   "pygments_lexer": "ipython3",
   "version": "3.6.5"
  }
 },
 "nbformat": 4,
 "nbformat_minor": 2
}
