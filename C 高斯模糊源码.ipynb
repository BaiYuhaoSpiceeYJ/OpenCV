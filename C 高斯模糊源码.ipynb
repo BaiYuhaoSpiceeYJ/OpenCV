{
 "cells": [
  {
   "cell_type": "code",
   "execution_count": 2,
   "metadata": {},
   "outputs": [
    {
     "data": {
      "text/plain": [
       "-1"
      ]
     },
     "execution_count": 2,
     "metadata": {},
     "output_type": "execute_result"
    }
   ],
   "source": [
    "import cv2\n",
    "import numpy as np\n",
    "img = cv2.imread('1.jpg',1)\n",
    "cv2.imshow('src',img)\n",
    "imgInfo = img.shape\n",
    "height = imgInfo[0]\n",
    "width = imgInfo[1]\n",
    "dstImage = np.zeros(img.shape,np.uint8)\n",
    "gaussWeight = np.array([[1,2,1],\n",
    "                        [2,4,2],\n",
    "                        [1,2,1]])\n",
    "\n",
    "for i in range(0,height):\n",
    "    for j in range(0,width):\n",
    "        totalBlue=0\n",
    "        totalGreen=0\n",
    "        totalRed=0\n",
    "        weight=0\n",
    "        for a in range(-1,2):\n",
    "            for b in range(-1,2):\n",
    "                if(i+a<0 or i+a>height-1 or j+b<0 or j+b>width-1):\n",
    "                    continue\n",
    "                else:\n",
    "                    (blue,green,red)=img[i+a,j+b]\n",
    "                    totalBlue+=blue*gaussWeight[1-a,1-b]\n",
    "                    totalGreen+=green*gaussWeight[1-a,1-b]\n",
    "                    totalRed+=red*gaussWeight[1-a,1-b]\n",
    "                    weight+=gaussWeight[1-a,1-b]\n",
    "        dstImage[i,j]=(totalBlue/weight,totalGreen/weight,totalRed/weight)\n",
    "cv2.imshow('dst',dstImage)\n",
    "cv2.imwrite('gausse=4.jpg',dstImage)\n",
    "cv2.waitKey(0)"
   ]
  },
  {
   "cell_type": "code",
   "execution_count": null,
   "metadata": {},
   "outputs": [],
   "source": []
  }
 ],
 "metadata": {
  "kernelspec": {
   "display_name": "Python 3",
   "language": "python",
   "name": "python3"
  },
  "language_info": {
   "codemirror_mode": {
    "name": "ipython",
    "version": 3
   },
   "file_extension": ".py",
   "mimetype": "text/x-python",
   "name": "python",
   "nbconvert_exporter": "python",
   "pygments_lexer": "ipython3",
   "version": "3.6.5"
  }
 },
 "nbformat": 4,
 "nbformat_minor": 2
}
