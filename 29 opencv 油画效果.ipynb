{
 "cells": [
  {
   "cell_type": "code",
   "execution_count": 37,
   "metadata": {},
   "outputs": [
    {
     "data": {
      "text/plain": [
       "-1"
      ]
     },
     "execution_count": 37,
     "metadata": {},
     "output_type": "execute_result"
    }
   ],
   "source": [
    "import cv2\n",
    "import numpy as np\n",
    "img = cv2.imread('1.jpg',1)\n",
    "imgInfo = img.shape\n",
    "height = imgInfo[0]\n",
    "width = imgInfo[1]\n",
    "rayon = 2\n",
    "gray = cv2.cvtColor(img,cv2.COLOR_BGR2GRAY)\n",
    "dst = np.zeros(img.shape,np.uint8)\n",
    "sect = 8\n",
    "for i in range(rayon,height-rayon):\n",
    "    for j in range(rayon,width-rayon):\n",
    "        array1 = np.zeros(sect,np.uint8)\n",
    "        for m in range(-rayon,rayon):\n",
    "            for n in range(-rayon,rayon):\n",
    "                p1 = int(gray[i+m,j+n]/(256/sect))#划分成了16个段\n",
    "                array1[p1]+=1\n",
    "        currentMax = array1[0]\n",
    "        l = 0\n",
    "        for k in range(0,sect):#求落入像素最多的段\n",
    "            if currentMax<=array1[k]:\n",
    "                currentMax = array1[k]\n",
    "                l = k\n",
    "        totalB=0\n",
    "        totalG=0\n",
    "        totalR=0\n",
    "        count=0\n",
    "        for m in range(-rayon,rayon):#统计该段中符合的像素的均值\n",
    "            for n in range(-rayon,rayon):\n",
    "                if gray[i+m,j+n]>=(l*(256/sect)) and gray[i+m,j+n]<=(l+1)*(256/sect):\n",
    "                    (b,g,r) = img[i+m,j+n]\n",
    "                    totalB+=b\n",
    "                    totalG+=g\n",
    "                    totalR+=r\n",
    "                    count+=1\n",
    "        dst[i,j] = (totalB/count,totalG/count,totalR/count)\n",
    "newDst = dst[rayon:height-rayon,rayon:width-rayon]\n",
    "cv2.imshow('newDst',newDst)\n",
    "cv2.imwrite('painting.jpg',newDst)\n",
    "cv2.waitKey(0)"
   ]
  },
  {
   "cell_type": "code",
   "execution_count": null,
   "metadata": {},
   "outputs": [],
   "source": []
  }
 ],
 "metadata": {
  "kernelspec": {
   "display_name": "Python 3",
   "language": "python",
   "name": "python3"
  },
  "language_info": {
   "codemirror_mode": {
    "name": "ipython",
    "version": 3
   },
   "file_extension": ".py",
   "mimetype": "text/x-python",
   "name": "python",
   "nbconvert_exporter": "python",
   "pygments_lexer": "ipython3",
   "version": "3.6.5"
  }
 },
 "nbformat": 4,
 "nbformat_minor": 2
}
