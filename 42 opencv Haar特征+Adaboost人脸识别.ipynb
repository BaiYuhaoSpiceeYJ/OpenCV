{
 "cells": [
  {
   "cell_type": "code",
   "execution_count": null,
   "metadata": {},
   "outputs": [
    {
     "name": "stdout",
     "output_type": "stream",
     "text": [
      "face= 1\n",
      "eyes= 2\n"
     ]
    }
   ],
   "source": [
    "#1.load XML 2.加载图片 3.计算Haar 灰度处理 4.检测 5.遍历并绘制\n",
    "import cv2\n",
    "import numpy as np\n",
    "face_xml = cv2.CascadeClassifier('haarcascade_frontalface_default.xml') #引入xml，文件名称\n",
    "eye_xml = cv2.CascadeClassifier('haarcascade_eye.xml')\n",
    "\n",
    "img = cv2.imread('face2.jpg')\n",
    "cv2.imshow('src',img)\n",
    "gray = cv2.imread('face2.jpg',0)\n",
    "\n",
    "#检测人脸\n",
    "faces = face_xml.detectMultiScale(gray,1.1,5) #1：灰度 2：模板缩放系数scale 3：目标大小（最小不小于5像素）\n",
    "print('face=',len(faces))\n",
    "\n",
    "#绘制人脸\n",
    "for (x,y,w,h) in faces: #所有参数都存在faces中\n",
    "    cv2.rectangle(img,(x,y),(x+w,y+h),(255,0,0),2)\n",
    "    roi_face = gray[y:y+h,x:x+w]\n",
    "    roi_color = img [y:y+h,x:x+w] #先行后列\n",
    "    eyes = eye_xml.detectMultiScale(roi_face,1.1,30)\n",
    "    print('eyes=',len(eyes))\n",
    "    \n",
    "    #绘制眼睛\n",
    "    for(ex,ey,ew,eh) in eyes:\n",
    "        cv2.rectangle(roi_color,(ex,ey),(ex+ew,ey+eh),(0,255,0),1)\n",
    "cv2.imshow('dst',img)\n",
    "cv2.waitKey(0)"
   ]
  },
  {
   "cell_type": "code",
   "execution_count": null,
   "metadata": {},
   "outputs": [],
   "source": []
  },
  {
   "cell_type": "code",
   "execution_count": null,
   "metadata": {},
   "outputs": [],
   "source": []
  },
  {
   "cell_type": "code",
   "execution_count": null,
   "metadata": {},
   "outputs": [],
   "source": []
  }
 ],
 "metadata": {
  "kernelspec": {
   "display_name": "Python 3",
   "language": "python",
   "name": "python3"
  },
  "language_info": {
   "codemirror_mode": {
    "name": "ipython",
    "version": 3
   },
   "file_extension": ".py",
   "mimetype": "text/x-python",
   "name": "python",
   "nbconvert_exporter": "python",
   "pygments_lexer": "ipython3",
   "version": "3.6.5"
  }
 },
 "nbformat": 4,
 "nbformat_minor": 2
}
