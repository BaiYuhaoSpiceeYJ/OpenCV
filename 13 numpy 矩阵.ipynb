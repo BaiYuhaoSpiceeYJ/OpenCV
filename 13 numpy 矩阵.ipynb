{
 "cells": [
  {
   "cell_type": "code",
   "execution_count": 23,
   "metadata": {},
   "outputs": [
    {
     "name": "stdout",
     "output_type": "stream",
     "text": [
      "[1 2 3 4 5]\n",
      "[[1 2]\n",
      " [3 4]]\n",
      "(5,)\n",
      "(2, 2)\n",
      "[[0. 0. 0.]\n",
      " [0. 0. 0.]] [[1. 1.]\n",
      " [1. 1.]]\n",
      "[[1 2]\n",
      " [5 4]]\n",
      "4\n",
      "[[2. 2.]\n",
      " [2. 2.]\n",
      " [2. 2.]]\n",
      "[[0.33333333 0.33333333]\n",
      " [0.33333333 0.33333333]\n",
      " [0.33333333 0.33333333]]\n",
      "[[3. 3.]\n",
      " [3. 3.]\n",
      " [3. 3.]]\n"
     ]
    },
    {
     "ename": "AttributeError",
     "evalue": "module 'numpy' has no attribute 'fill'",
     "output_type": "error",
     "traceback": [
      "\u001b[1;31m---------------------------------------------------------------------------\u001b[0m",
      "\u001b[1;31mAttributeError\u001b[0m                            Traceback (most recent call last)",
      "\u001b[1;32m<ipython-input-23-5ba7e39fdd24>\u001b[0m in \u001b[0;36m<module>\u001b[1;34m()\u001b[0m\n\u001b[0;32m     17\u001b[0m data4 = np.array([[1,2,3],\n\u001b[0;32m     18\u001b[0m                 [4,5,6]])\n\u001b[1;32m---> 19\u001b[1;33m \u001b[0mdata5\u001b[0m \u001b[1;33m=\u001b[0m \u001b[0mnp\u001b[0m\u001b[1;33m.\u001b[0m\u001b[0mfill\u001b[0m\u001b[1;33m(\u001b[0m\u001b[1;33m[\u001b[0m\u001b[1;36m2\u001b[0m\u001b[1;33m,\u001b[0m\u001b[1;36m3\u001b[0m\u001b[1;33m]\u001b[0m\u001b[1;33m,\u001b[0m\u001b[1;36m12\u001b[0m\u001b[1;33m)\u001b[0m\u001b[1;33m\u001b[0m\u001b[0m\n\u001b[0m",
      "\u001b[1;31mAttributeError\u001b[0m: module 'numpy' has no attribute 'fill'"
     ]
    }
   ],
   "source": [
    "import numpy as np\n",
    "data1 = np.array([1,2,3,4,5])\n",
    "print(data1)\n",
    "data2 = np.array([[1,2],\n",
    "                  [3,4]])\n",
    "print(data2)\n",
    "print(data1.shape)\n",
    "print(data2.shape)\n",
    "print(np.zeros([2,3]),np.ones([2,2]))\n",
    "data2[1,0] = 5\n",
    "print(data2)\n",
    "print(data2[1,1])\n",
    "data3 = np.ones([3,2])\n",
    "print(data3*2)\n",
    "print(data3/3)\n",
    "print(data3+2)\n",
    "data4 = np.array([[1,2,3],\n",
    "                [4,5,6]])\n",
    "\n"
   ]
  },
  {
   "cell_type": "code",
   "execution_count": null,
   "metadata": {},
   "outputs": [],
   "source": []
  }
 ],
 "metadata": {
  "kernelspec": {
   "display_name": "Python 3",
   "language": "python",
   "name": "python3"
  },
  "language_info": {
   "codemirror_mode": {
    "name": "ipython",
    "version": 3
   },
   "file_extension": ".py",
   "mimetype": "text/x-python",
   "name": "python",
   "nbconvert_exporter": "python",
   "pygments_lexer": "ipython3",
   "version": "3.6.5"
  }
 },
 "nbformat": 4,
 "nbformat_minor": 2
}
