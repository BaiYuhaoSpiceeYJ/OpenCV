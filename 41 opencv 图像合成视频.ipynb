{
 "cells": [
  {
   "cell_type": "code",
   "execution_count": 16,
   "metadata": {},
   "outputs": [
    {
     "name": "stdout",
     "output_type": "stream",
     "text": [
      "(276, 480)\n",
      "end!\n"
     ]
    }
   ],
   "source": [
    "import cv2\n",
    "fileName = 'C:\\\\Users\\TH\\Desktop\\DL\\source\\image1.jpg'\n",
    "img = cv2.imread(fileName)\n",
    "imgInfo = img.shape\n",
    "size = (imgInfo[1],imgInfo[0])\n",
    "print(size)#宽，高\n",
    "videoWrite = cv2.VideoWriter('2.avi',-1,5,size) #1:写入对象名称 2:选择一个可以使用的解码器 3：15fps 4：大小\n",
    "for i in range(1,11):\n",
    "    fileName = 'C:\\\\Users\\TH\\Desktop\\DL\\source\\image'+str(i)+'.jpg'\n",
    "    img = cv2.imread(fileName)\n",
    "    videoWrite.write(img) #写入方法：图片数据\n",
    "print('end!')"
   ]
  }
 ],
 "metadata": {
  "kernelspec": {
   "display_name": "Python 3",
   "language": "python",
   "name": "python3"
  },
  "language_info": {
   "codemirror_mode": {
    "name": "ipython",
    "version": 3
   },
   "file_extension": ".py",
   "mimetype": "text/x-python",
   "name": "python",
   "nbconvert_exporter": "python",
   "pygments_lexer": "ipython3",
   "version": "3.6.5"
  }
 },
 "nbformat": 4,
 "nbformat_minor": 2
}
