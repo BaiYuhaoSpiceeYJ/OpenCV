{
 "cells": [
  {
   "cell_type": "code",
   "execution_count": 16,
   "metadata": {},
   "outputs": [
    {
     "name": "stdout",
     "output_type": "stream",
     "text": [
      "[[177.  63.]\n",
      " [162.  50.]]\n",
      "0.0 [[1.]\n",
      " [0.]]\n"
     ]
    }
   ],
   "source": [
    "import cv2 \n",
    "import numpy as np\n",
    "import matplotlib.pyplot as plt\n",
    "\n",
    "#准备数据\n",
    "rand1 = np.array([[155,48],[159,50],[164,63],[168,56],[172,55]])#女生身高体重\n",
    "rand2 = np.array([[162,53],[166,61],[174,65],[172,64],[176,65]])#男生身高体重\n",
    "\n",
    "#标签,SVM所有数据都要有标签，描述当前一组数据唯一的属性\n",
    "#前5个对应标签0负样本，后五个对应标签1，正样本，监督学习\n",
    "label = np.array([[0],[0],[0],[0],[0],[1],[1],[1],[1],[1]])\n",
    "\n",
    "#数据\n",
    "data = np.vstack((rand1,rand2)) #合并\n",
    "data = np.array(data,dtype='float32')\n",
    "\n",
    "#属性设置\n",
    "svm = cv2.ml.SVM_create()#ml machine learning , SVM_create() 创建一个支持向量机\n",
    "svm.setType(cv2.ml.SVM_C_SVC)#设置svm类型\n",
    "svm.setKernel(cv2.ml.SVM_LINEAR) #设置svm内核：线性分类器,最重要\n",
    "svm.setC(0.01)\n",
    "\n",
    "#训练\n",
    "result = svm.train(data,cv2.ml.ROW_SAMPLE,label)#1:数据 2：训练类型 简单类型 3：标签\n",
    "\n",
    "#预测\n",
    "#pt_data  = np.vstack([[177,63],[162,50]])\n",
    "pt_data  = np.array([[177,63],[162,50]])\n",
    "pt_data = np.array(pt_data,dtype = 'float32')\n",
    "print(pt_data)\n",
    "\n",
    "(par1,par2) = svm.predict(pt_data)\n",
    "print(par1,par2)"
   ]
  },
  {
   "cell_type": "code",
   "execution_count": 17,
   "metadata": {},
   "outputs": [
    {
     "name": "stdout",
     "output_type": "stream",
     "text": [
      "(0.0, array([[1.]], dtype=float32))\n"
     ]
    }
   ],
   "source": [
    "#pos 888 neg 903\n",
    "#1.参数设置 2.创建hog 3.创建svm 4.计算hog 5.给标签 6.训练 7.预测 8.绘图\n",
    "import cv2\n",
    "import numpy as np\n",
    "import matplotlib.pyplot as plt\n",
    "\n",
    "#1.参数设置\n",
    "posNum = 10\n",
    "negNum = 20\n",
    "winSize = (64,128)\n",
    "blockSize = (16,16)#105个block\n",
    "blockStep = (8,8)\n",
    "cellSize = (8,8)\n",
    "numBin = 9\n",
    "\n",
    "#2.创建hog\n",
    "hog = cv2.HOGDescriptor(winSize,blockSize,blockStep,cellSize,numBin)#参数win,blocksize,blockstep,cellsize,numbin\n",
    "\n",
    "#3.创建svm\n",
    "svm = cv2.ml.SVM_create()\n",
    "svm.setType(cv2.ml.SVM_C_SVC)\n",
    "svm.setKernel(cv2.ml.SVM_LINEAR)\n",
    "svm.setC(0.01)\n",
    "\n",
    "#4.计算Hog,5.给标签\n",
    "featureNum = int(3780)#特征维度:3780维\n",
    "featureArray = np.zeros((posNum+negNum,featureNum),np.float32)#对每张图创建一个3780个数据的数组\n",
    "labelArray =  np.zeros(((posNum+negNum),1),np.int32)\n",
    "\n",
    "for i in range(0,posNum):\n",
    "    fileName = 'C:\\\\Users\\TH\\Desktop\\DL\\\\pos\\image'+str(i+1)+'.jpg'\n",
    "    img = cv2.imread(fileName,1)\n",
    "    hist = hog.compute(img,(8,8))#计算结果也3780维\n",
    "    for j in range(0,featureNum):\n",
    "        featureArray[i,j] = hist[j] #将hog特征装入数组中\n",
    "    labelArray[i,0] = 1 #正样本标签为1\n",
    "    \n",
    "for i in range(0,negNum):\n",
    "    fileName = 'C:\\\\Users\\TH\\Desktop\\DL\\\\neg\\image'+str(i+1)+'.jpg'\n",
    "    img = cv2.imread(fileName,1)\n",
    "    hist = hog.compute(img,(8,8))#计算结果也3780维\n",
    "    for j in range(0,featureNum):\n",
    "        featureArray[i+posNum,j] = hist[j] #将hog特征装入数组中\n",
    "    labelArray[i+posNum,0] = -1 #负样本标签为-1\n",
    "    \n",
    "#6.训练    \n",
    "result = svm.train(featureArray,cv2.ml.ROW_SAMPLE,labelArray)\n",
    "\n",
    "\n",
    "test  = cv2.imread('test.jpg',1)\n",
    "hist = hog.compute(test,(8,8))\n",
    "data = np.zeros([1,3780])\n",
    "for j in range(0,3780):\n",
    "    data[0,j] = hist[j]\n",
    "data = np.array(data,dtype = 'float32')\n",
    "par1 = svm.predict(data)\n",
    "print(par1)"
   ]
  },
  {
   "cell_type": "code",
   "execution_count": null,
   "metadata": {},
   "outputs": [],
   "source": []
  }
 ],
 "metadata": {
  "kernelspec": {
   "display_name": "Python 3",
   "language": "python",
   "name": "python3"
  },
  "language_info": {
   "codemirror_mode": {
    "name": "ipython",
    "version": 3
   },
   "file_extension": ".py",
   "mimetype": "text/x-python",
   "name": "python",
   "nbconvert_exporter": "python",
   "pygments_lexer": "ipython3",
   "version": "3.6.5"
  }
 },
 "nbformat": 4,
 "nbformat_minor": 2
}
