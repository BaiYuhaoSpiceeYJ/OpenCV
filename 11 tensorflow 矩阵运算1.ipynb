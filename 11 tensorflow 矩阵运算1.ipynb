{
 "cells": [
  {
   "cell_type": "code",
   "execution_count": 12,
   "metadata": {},
   "outputs": [
    {
     "name": "stdout",
     "output_type": "stream",
     "text": [
      "(3, 2)\n",
      "[[1 2]\n",
      " [3 4]\n",
      " [5 6]]\n",
      "[1 2]\n",
      "[1 3 5]\n",
      "1\n",
      "[[24]]\n",
      "[[12 12]\n",
      " [12 12]]\n",
      "[[9 9]]\n",
      "[array([[24]]), array([[9, 9]])]\n"
     ]
    }
   ],
   "source": [
    "import tensorflow as tf\n",
    "data1 = tf.constant([[6,6]])\n",
    "data2 = tf.constant([[2],\n",
    "                     [2]])\n",
    "data3 = tf.constant([[3,3]])\n",
    "data4 = tf.constant([[1,2],\n",
    "                    [3,4],\n",
    "                    [5,6]])\n",
    "print(data4.shape)#显示维度\n",
    "matMul = tf.matmul(data1,data2)\n",
    "matMul2 = tf.multiply(data1,data2)#不符合矩阵乘法，普通乘法\n",
    "matAdd = tf.add(data1,data3)\n",
    "with tf.Session() as sess:\n",
    "    print(sess.run(data4))#打印整体\n",
    "    \n",
    "    print(sess.run(data4[0]))#打印某一行\n",
    "    print(sess.run(data4[:,0]))#打印某一列\n",
    "    print(sess.run(data4[0,0]))\n",
    "    print(sess.run(matMul))\n",
    "    print(sess.run(matMul2))\n",
    "    print(sess.run(matAdd))\n",
    "    print(sess.run([matMul,matAdd]))#一次打印多个内容"
   ]
  },
  {
   "cell_type": "code",
   "execution_count": null,
   "metadata": {},
   "outputs": [],
   "source": []
  },
  {
   "cell_type": "code",
   "execution_count": null,
   "metadata": {},
   "outputs": [],
   "source": []
  },
  {
   "cell_type": "code",
   "execution_count": null,
   "metadata": {},
   "outputs": [],
   "source": []
  }
 ],
 "metadata": {
  "kernelspec": {
   "display_name": "Python 3",
   "language": "python",
   "name": "python3"
  },
  "language_info": {
   "codemirror_mode": {
    "name": "ipython",
    "version": 3
   },
   "file_extension": ".py",
   "mimetype": "text/x-python",
   "name": "python",
   "nbconvert_exporter": "python",
   "pygments_lexer": "ipython3",
   "version": "3.6.5"
  }
 },
 "nbformat": 4,
 "nbformat_minor": 2
}
