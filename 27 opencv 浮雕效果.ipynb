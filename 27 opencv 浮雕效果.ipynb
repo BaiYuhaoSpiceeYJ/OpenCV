{
 "cells": [
  {
   "cell_type": "code",
   "execution_count": 3,
   "metadata": {},
   "outputs": [
    {
     "data": {
      "text/plain": [
       "-1"
      ]
     },
     "execution_count": 3,
     "metadata": {},
     "output_type": "execute_result"
    }
   ],
   "source": [
    "import cv2\n",
    "import numpy as np\n",
    "import random\n",
    "import math\n",
    "img = cv2.imread('1.jpg',1)\n",
    "imgInfo = img.shape\n",
    "height = imgInfo[0]\n",
    "width = imgInfo[1]\n",
    "gray = cv2.cvtColor(img,cv2.COLOR_BGR2GRAY)\n",
    "dst = np.zeros((height,width-1,1),np.uint8)\n",
    "for i in range(0,height):\n",
    "    for j in range(0,width-1):\n",
    "        grayP0 = int(gray[i,j])\n",
    "        grayP1 = int(gray[i,j+1])\n",
    "        newP = grayP0-grayP1+128\n",
    "        if newP>255:\n",
    "            newP=255\n",
    "        if newP<0:\n",
    "            newP=0\n",
    "        dst[i,j]=newP\n",
    "cv2.imshow('dst',dst)\n",
    "cv2.imwrite('fudiao_gray.jpg',dst)\n",
    "cv2.waitKey(0)"
   ]
  },
  {
   "cell_type": "code",
   "execution_count": 2,
   "metadata": {},
   "outputs": [
    {
     "data": {
      "text/plain": [
       "-1"
      ]
     },
     "execution_count": 2,
     "metadata": {},
     "output_type": "execute_result"
    }
   ],
   "source": [
    "import cv2\n",
    "import numpy as np\n",
    "import random\n",
    "import math\n",
    "img = cv2.imread('1.jpg',1)\n",
    "imgInfo = img.shape\n",
    "height = imgInfo[0]\n",
    "width = imgInfo[1]\n",
    "dst = np.zeros((height,width-1,3),np.uint8)\n",
    "for i in range(0,height):\n",
    "    for j in range(0,width-1):\n",
    "        (b1,g1,r1) = img[i,j]\n",
    "        (b2,g2,r2) = img[i,j+1]\n",
    "        b1 = int(b1)\n",
    "        b2 = int(b2)\n",
    "        g1 = int(g1)\n",
    "        g2 = int(g2)\n",
    "        r1 = int(r1)\n",
    "        r2 = int(r2)\n",
    "        b = b1-b2+128\n",
    "        g = g1-g2+128\n",
    "        r = r1-r2+128\n",
    "        if b>255:\n",
    "            b=255\n",
    "        if b<0:\n",
    "            b=0\n",
    "        if g>255:\n",
    "            g=255\n",
    "        if g<0:\n",
    "            g=0\n",
    "        if r>255:\n",
    "            r=255\n",
    "        if r<0:\n",
    "            r=0\n",
    "        dst[i,j]=(b,g,r)\n",
    "cv2.imshow('dst',dst)\n",
    "cv2.imwrite('fudiao_color.jpg',dst)\n",
    "cv2.waitKey(0)"
   ]
  },
  {
   "cell_type": "code",
   "execution_count": null,
   "metadata": {},
   "outputs": [],
   "source": []
  }
 ],
 "metadata": {
  "kernelspec": {
   "display_name": "Python 3",
   "language": "python",
   "name": "python3"
  },
  "language_info": {
   "codemirror_mode": {
    "name": "ipython",
    "version": 3
   },
   "file_extension": ".py",
   "mimetype": "text/x-python",
   "name": "python",
   "nbconvert_exporter": "python",
   "pygments_lexer": "ipython3",
   "version": "3.6.5"
  }
 },
 "nbformat": 4,
 "nbformat_minor": 2
}
