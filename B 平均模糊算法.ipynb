{
 "cells": [
  {
   "cell_type": "code",
   "execution_count": 1,
   "metadata": {},
   "outputs": [
    {
     "data": {
      "text/plain": [
       "-1"
      ]
     },
     "execution_count": 1,
     "metadata": {},
     "output_type": "execute_result"
    }
   ],
   "source": [
    "import cv2\n",
    "import numpy as np\n",
    "img = cv2.imread('1.jpg',1)\n",
    "cv2.imshow('src',img)\n",
    "imgInfo = img.shape\n",
    "height = imgInfo[0]\n",
    "width = imgInfo[1]\n",
    "dstImage = np.zeros(img.shape,np.uint8)\n",
    "rayon = 1\n",
    "for i in range(0,height):\n",
    "    for j in range(0,width):\n",
    "        totalBlue=0\n",
    "        totalGreen=0\n",
    "        totalRed=0\n",
    "        count=0\n",
    "        for a in range(-rayon,rayon+1):\n",
    "            for b in range(-rayon,rayon+1):\n",
    "                if(i+a<0 or i+a>height-1 or j+b<0 or j+b>width-1):\n",
    "                    continue\n",
    "                else:\n",
    "                    (blue,green,red)=img[i+a,j+b]\n",
    "                    totalBlue+=blue\n",
    "                    totalGreen+=green\n",
    "                    totalRed+=red\n",
    "                    count+=1\n",
    "                #dstImage[i,j]=(img[i+a,j+b]/(2*rayon+1)/(2*rayon+1))+dstImage[i,j]#(dstImage[i,j]+img[i+a,j+b]*1.0/rayon/rayon)\n",
    "        dstImage[i,j]=(totalBlue/count,totalGreen/count,totalRed/count)\n",
    "cv2.imshow('dst',dstImage)\n",
    "cv2.imwrite('rayon=1.jpg',dstImage)\n",
    "cv2.waitKey(0)"
   ]
  },
  {
   "cell_type": "code",
   "execution_count": null,
   "metadata": {},
   "outputs": [],
   "source": []
  },
  {
   "cell_type": "code",
   "execution_count": null,
   "metadata": {},
   "outputs": [],
   "source": []
  },
  {
   "cell_type": "code",
   "execution_count": null,
   "metadata": {},
   "outputs": [],
   "source": []
  }
 ],
 "metadata": {
  "kernelspec": {
   "display_name": "Python 3",
   "language": "python",
   "name": "python3"
  },
  "language_info": {
   "codemirror_mode": {
    "name": "ipython",
    "version": 3
   },
   "file_extension": ".py",
   "mimetype": "text/x-python",
   "name": "python",
   "nbconvert_exporter": "python",
   "pygments_lexer": "ipython3",
   "version": "3.6.5"
  }
 },
 "nbformat": 4,
 "nbformat_minor": 2
}
