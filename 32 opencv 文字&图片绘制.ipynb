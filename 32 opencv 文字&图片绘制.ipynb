{
 "cells": [
  {
   "cell_type": "code",
   "execution_count": 9,
   "metadata": {},
   "outputs": [
    {
     "data": {
      "text/plain": [
       "-1"
      ]
     },
     "execution_count": 9,
     "metadata": {},
     "output_type": "execute_result"
    }
   ],
   "source": [
    "import cv2\n",
    "import numpy as np\n",
    "img = cv2.imread('1.jpg',1)\n",
    "font  = cv2.FONT_HERSHEY_SIMPLEX#字体\n",
    "cv2.rectangle(img,(200,100),(500,400),(0,255,0),4)\n",
    "cv2.putText(img,'this is',(100,300),font,5,(200,100,255),2,cv2.LINE_AA)\n",
    "#1：目标 2：内容 3：起点 4：字体 5：字体大小 6：颜色 7：粗细 8：线条类型\n",
    "cv2.imshow('img',img)\n",
    "cv2.waitKey(0)"
   ]
  },
  {
   "cell_type": "code",
   "execution_count": 10,
   "metadata": {},
   "outputs": [
    {
     "data": {
      "text/plain": [
       "-1"
      ]
     },
     "execution_count": 10,
     "metadata": {},
     "output_type": "execute_result"
    }
   ],
   "source": [
    "import cv2\n",
    "import numpy as np\n",
    "img = cv2.imread('1.jpg',1)\n",
    "height = int(img.shape[0]*0.2)\n",
    "width = int(img.shape[1]*0.2)\n",
    "imgResize = cv2.resize(img,(width,height))#缩放函数\n",
    "for i in range(0,height):\n",
    "    for j in range(0,width):\n",
    "        img[i+200,j+350] = imgResize[i,j]\n",
    "cv2.imshow('src',img)\n",
    "cv2.waitKey(0)"
   ]
  },
  {
   "cell_type": "code",
   "execution_count": null,
   "metadata": {},
   "outputs": [],
   "source": []
  }
 ],
 "metadata": {
  "kernelspec": {
   "display_name": "Python 3",
   "language": "python",
   "name": "python3"
  },
  "language_info": {
   "codemirror_mode": {
    "name": "ipython",
    "version": 3
   },
   "file_extension": ".py",
   "mimetype": "text/x-python",
   "name": "python",
   "nbconvert_exporter": "python",
   "pygments_lexer": "ipython3",
   "version": "3.6.5"
  }
 },
 "nbformat": 4,
 "nbformat_minor": 2
}
