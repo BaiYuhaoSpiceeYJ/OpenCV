{
 "cells": [
  {
   "cell_type": "code",
   "execution_count": 21,
   "metadata": {},
   "outputs": [
    {
     "data": {
      "image/png": "[encoded data removed]",
      "text/plain": [
       "<Figure size 432x288 with 1 Axes>"
      ]
     },
     "metadata": {},
     "output_type": "display_data"
    }
   ],
   "source": [
    "import tensorflow as tf\n",
    "import numpy as np\n",
    "import matplotlib.pyplot as plt\n",
    "date = np.linspace(1,15,15)\n",
    "endPrice = np.array([2511.90,2538.26,2510.68,2591.66,2732.98,2701.69,2701.29,\n",
    "                     2678.67,2726.50,2681.50,2739.17,2715.07,2823.58,2864.90,2919.08])\n",
    "beginPrice = np.array([2438.71,2500.88,2534.95,2512.52,2594.04,2743.26,2697.47,\n",
    "                       2696.24,2678.23,2722.13,2674.93,2744.13,2717.46,2823.73,2777.40])\n",
    "highPrice = np.array([2531.69,2539.01,2560.11,2600.34,2765.11,2744.69,2715.42,\n",
    "                     2699.85,2750.00,2745.87,2785.50,2760.14,2849.40,2904.77,2938.65])\n",
    "lowPrice = np.array([2394.22,2490.92,2498.65,2500.01,2580.77,2620.85,2678.98,\n",
    "                    2665.57,2640.86,2675.44,2658.03,2701.01,2705.46,2740.64,2770.98])\n",
    "plt.figure()\n",
    "for i in range(0,15):\n",
    "    dateOne = np.zeros([2])\n",
    "    dateOne[0] = i;\n",
    "    dateOne[1] = i;\n",
    "    priceOne = np.zeros([2])\n",
    "    priceOne[0] = beginPrice[i]\n",
    "    priceOne[1] = endPrice[i]\n",
    "    priceTwo = np.zeros([2])\n",
    "    priceTwo[0] = highPrice[i]\n",
    "    priceTwo[1] = lowPrice[i]\n",
    "    if endPrice[i]>beginPrice[i]:\n",
    "        plt.plot(dateOne+1,priceOne,'r',lw=8)\n",
    "        plt.plot(dateOne+1,priceTwo,'r',lw=1)\n",
    "    else:\n",
    "        plt.plot(dateOne+1,priceOne,'g',lw=8)\n",
    "        plt.plot(dateOne+1,priceTwo,'g',lw=1)\n",
    "#A(15*1)*w1(1*10)+b1(1*10) = B(15*10)\n",
    "#B(15*10)*w2(10*1)+b2(15*1) = C(15*1)\n",
    "dateNormal = np.zeros([15,1])\n",
    "priceNormal = np.zeros([15,1])\n",
    "beginNormal = np.zeros([15,1])\n",
    "for i in range(0,15):\n",
    "    beginNormal[i,0] = beginPrice[i]/3000.0#归一化\n",
    "    dateNormal[i,0] = i/15.0#归一化\n",
    "    priceNormal[i,0] = endPrice[i]/3000.0#归一化\n",
    "x = tf.placeholder(tf.float32,[None,1])\n",
    "y = tf.placeholder(tf.float32,[None,1])\n",
    "#隐藏层\n",
    "w1 = tf.Variable(tf.random_uniform([1,10],0,1))\n",
    "b1 = tf.Variable(tf.zeros([1,10]))\n",
    "wb1 = tf.matmul(x,w1)+b1\n",
    "layer1 = tf.nn.relu(wb1) #激励函数 \n",
    "#输出层\n",
    "w2 = tf.Variable(tf.random_uniform([10,1],0,1))\n",
    "b2 = tf.Variable(tf.zeros([15,1]))\n",
    "wb2 = tf.matmul(layer1,w2)+b2\n",
    "layer2 = tf.nn.relu(wb2)\n",
    "\n",
    "loss = tf.reduce_mean(tf.square(y-layer2))#y存真实值，真实值和计算值相减再开方，再算均值\n",
    "train_step = tf.train.GradientDescentOptimizer(0.1).minimize(loss)#梯度下降函数\n",
    "\n",
    "with tf.Session() as sess:\n",
    "    sess.run(tf.global_variables_initializer())\n",
    "    for i in range(0,100):\n",
    "        #sess.run(train_step,feed_dict={x:dateNormal,y:priceNormal})\n",
    "        sess.run(train_step,feed_dict={x:beginNormal,y:priceNormal})\n",
    "    #pred = sess.run(layer2,feed_dict={x:dateNormal})\n",
    "    pred = sess.run(layer2,feed_dict={x:beginNormal})\n",
    "    predPrice = np.zeros([15,1])\n",
    "    for i in range(0,15):\n",
    "        predPrice[i,0]=(pred*3000)[i,0]\n",
    "    plt.plot(date,predPrice,'b',lw=4)\n",
    "    #plt.plot(date,beginPrice,'g',lw=1)\n",
    "    #plt.plot(date,endPrice,'r',lw=1)\n",
    "plt.show()"
   ]
  },
  {
   "cell_type": "code",
   "execution_count": null,
   "metadata": {},
   "outputs": [],
   "source": []
  },
  {
   "cell_type": "code",
   "execution_count": null,
   "metadata": {},
   "outputs": [],
   "source": []
  }
 ],
 "metadata": {
  "kernelspec": {
   "display_name": "Python 3",
   "language": "python",
   "name": "python3"
  },
  "language_info": {
   "codemirror_mode": {
    "name": "ipython",
    "version": 3
   },
   "file_extension": ".py",
   "mimetype": "text/x-python",
   "name": "python",
   "nbconvert_exporter": "python",
   "pygments_lexer": "ipython3",
   "version": "3.6.5"
  }
 },
 "nbformat": 4,
 "nbformat_minor": 2
}
