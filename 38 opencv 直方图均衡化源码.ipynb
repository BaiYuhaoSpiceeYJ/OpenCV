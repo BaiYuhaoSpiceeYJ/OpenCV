{
 "cells": [
  {
   "cell_type": "code",
   "execution_count": 13,
   "metadata": {},
   "outputs": [
    {
     "data": {
      "image/png": "[encoded data removed]",
      "text/plain": [
       "<Figure size 432x288 with 1 Axes>"
      ]
     },
     "metadata": {},
     "output_type": "display_data"
    },
    {
     "data": {
      "text/plain": [
       "-1"
      ]
     },
     "execution_count": 13,
     "metadata": {},
     "output_type": "execute_result"
    }
   ],
   "source": [
    "#灰色\n",
    "import cv2\n",
    "import numpy as np\n",
    "import matplotlib.pyplot as plt\n",
    "img = cv2.imread('1.jpg',1)\n",
    "imgInfo = img.shape\n",
    "height = imgInfo[0]\n",
    "width = imgInfo[1]\n",
    "gray = cv2.cvtColor(img,cv2.COLOR_BGR2GRAY)\n",
    "count = np.zeros(256,np.float32)\n",
    "for i in range(0,height):\n",
    "    for j in range(0,width):\n",
    "        pixel = gray[i,j]\n",
    "        index = int(pixel)\n",
    "        count[index]+=1\n",
    "for i in range(0,256):\n",
    "    count[i] /=height*width\n",
    "\n",
    "sumCount = float(0)\n",
    "newCount = np.zeros(256,np.float32)\n",
    "for i in range(0,255):\n",
    "    sumCount+=count[i]\n",
    "    newCount[i]=sumCount\n",
    "#计算映射表\n",
    "map1 = np.zeros(256,np.uint16)\n",
    "for i in range(0,256):\n",
    "    map1[i] = np.uint16(newCount[i]*255)\n",
    "#映射\n",
    "for i in range(0,height):\n",
    "    for j in range(0,width):\n",
    "        pixel=gray[i,j]\n",
    "        gray[i,j] = map1[pixel]\n",
    "x = np.linspace(0,255,256)#0-255,256等分\n",
    "y = newCount\n",
    "plt.bar(x,y,0.9,alpha=1,color='b')\n",
    "plt.show()\n",
    "cv2.imshow('dst',gray)\n",
    "cv2.waitKey(0)"
   ]
  },
  {
   "cell_type": "code",
   "execution_count": 4,
   "metadata": {},
   "outputs": [
    {
     "data": {
      "text/plain": [
       "-1"
      ]
     },
     "execution_count": 4,
     "metadata": {},
     "output_type": "execute_result"
    },
    {
     "data": {
      "image/png": "[encoded data removed]",
      "text/plain": [
       "<Figure size 432x288 with 1 Axes>"
      ]
     },
     "metadata": {},
     "output_type": "display_data"
    },
    {
     "data": {
      "text/plain": [
       "<Figure size 432x288 with 0 Axes>"
      ]
     },
     "metadata": {},
     "output_type": "display_data"
    }
   ],
   "source": [
    "#彩色\n",
    "import cv2\n",
    "import numpy as np\n",
    "import matplotlib.pyplot as plt\n",
    "img = cv2.imread('1.jpg',1)\n",
    "imgInfo = img.shape\n",
    "height = imgInfo[0]\n",
    "width = imgInfo[1]\n",
    "gray = cv2.cvtColor(img,cv2.COLOR_BGR2GRAY)\n",
    "\n",
    "count_b = np.zeros(256,np.float)\n",
    "count_g = np.zeros(256,np.float)\n",
    "count_r = np.zeros(256,np.float)\n",
    "for i in range(0,height):\n",
    "    for j in range(0,width):\n",
    "        (b,g,r) = img[i,j]\n",
    "        index_b=int(b)\n",
    "        index_g=int(g)\n",
    "        index_r=int(r)\n",
    "        count_b[index_b]+=1\n",
    "        count_g[index_g]+=1\n",
    "        count_r[index_r]+=1\n",
    "for i in range(0,256):\n",
    "    count_b[i]/=height*width\n",
    "    count_g[i]/=height*width\n",
    "    count_r[i]/=height*width\n",
    "    \n",
    "sumCount_b = float(0)\n",
    "newCount_b = np.zeros(256,np.float32)\n",
    "sumCount_g = float(0)\n",
    "newCount_g = np.zeros(256,np.float32)\n",
    "sumCount_r = float(0)\n",
    "newCount_r = np.zeros(256,np.float32)\n",
    "\n",
    "for i in range(0,255):\n",
    "    sumCount_b+=count_b[i]\n",
    "    newCount_b[i]=sumCount_b\n",
    "    sumCount_g+=count_g[i]\n",
    "    newCount_g[i]=sumCount_g\n",
    "    sumCount_r+=count_r[i]\n",
    "    newCount_r[i]=sumCount_r\n",
    "    \n",
    "map_b = np.zeros(256,np.uint16)\n",
    "map_g = np.zeros(256,np.uint16)\n",
    "map_r = np.zeros(256,np.uint16)\n",
    "\n",
    "for i in range(0,256):\n",
    "    map_b[i] = np.uint16(newCount_b[i]*255)\n",
    "    map_g[i] = np.uint16(newCount_g[i]*255)\n",
    "    map_r[i] = np.uint16(newCount_r[i]*255)\n",
    "\n",
    "dst = np.zeros(img.shape,np.uint8)\n",
    "for i in range(0,height):\n",
    "    for j in range(0,width):\n",
    "        (b,g,r) = img[i,j]\n",
    "        b =  map_b[b]\n",
    "        g =  map_g[g]\n",
    "        r =  map_r[r]\n",
    "        dst[i,j] = (b,g,r)\n",
    "\n",
    "x = np.linspace(0,255,256)\n",
    "y1 = count_b\n",
    "y2 = count_g\n",
    "y3 = count_r\n",
    "plt.bar(x,y1,0.9,alpha=0.7,color='b')\n",
    "plt.bar(x,y2,0.9,alpha=0.7,color='g')\n",
    "plt.bar(x,y3,0.9,alpha=0.7,color='r')\n",
    "plt.figure()\n",
    "\n",
    "y4 = newCount_b\n",
    "y5 = newCount_g\n",
    "y6 = newCount_r\n",
    "plt.bar(x,y4,0.9,alpha=0.7,color='b')\n",
    "plt.bar(x,y5,0.9,alpha=0.7,color='g')\n",
    "plt.bar(x,y6,0.9,alpha=0.7,color='r')\n",
    "\n",
    "cv2.imshow('dst',dst)\n",
    "cv2.waitKey(0)"
   ]
  },
  {
   "cell_type": "code",
   "execution_count": null,
   "metadata": {},
   "outputs": [],
   "source": []
  }
 ],
 "metadata": {
  "kernelspec": {
   "display_name": "Python 3",
   "language": "python",
   "name": "python3"
  },
  "language_info": {
   "codemirror_mode": {
    "name": "ipython",
    "version": 3
   },
   "file_extension": ".py",
   "mimetype": "text/x-python",
   "name": "python",
   "nbconvert_exporter": "python",
   "pygments_lexer": "ipython3",
   "version": "3.6.5"
  }
 },
 "nbformat": 4,
 "nbformat_minor": 2
}
