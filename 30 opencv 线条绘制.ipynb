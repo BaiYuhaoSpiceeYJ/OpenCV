{
 "cells": [
  {
   "cell_type": "code",
   "execution_count": 1,
   "metadata": {},
   "outputs": [
    {
     "data": {
      "text/plain": [
       "-1"
      ]
     },
     "execution_count": 1,
     "metadata": {},
     "output_type": "execute_result"
    }
   ],
   "source": [
    "import cv2\n",
    "import numpy as np\n",
    "newImageInfo = (500,500,3)\n",
    "dst = np.zeros(newImageInfo,np.uint8)\n",
    "cv2.line(dst,(100,100),(400,400),(0,0,255))\n",
    "cv2.line(dst,(100,200),(400,200),(0,255,255),10)\n",
    "cv2.line(dst,(100,300),(400,300),(0,255,0),30,cv2.LINE_AA)\n",
    "#1：目标 2：起点 3：终点 4：颜色 5：宽度 6：线条类型，抗锯齿\n",
    "cv2.imshow('dst',dst)\n",
    "cv2.imwrite('line.jpg',dst)\n",
    "cv2.waitKey(0)"
   ]
  },
  {
   "cell_type": "code",
   "execution_count": null,
   "metadata": {},
   "outputs": [],
   "source": []
  }
 ],
 "metadata": {
  "kernelspec": {
   "display_name": "Python 3",
   "language": "python",
   "name": "python3"
  },
  "language_info": {
   "codemirror_mode": {
    "name": "ipython",
    "version": 3
   },
   "file_extension": ".py",
   "mimetype": "text/x-python",
   "name": "python",
   "nbconvert_exporter": "python",
   "pygments_lexer": "ipython3",
   "version": "3.6.5"
  }
 },
 "nbformat": 4,
 "nbformat_minor": 2
}
