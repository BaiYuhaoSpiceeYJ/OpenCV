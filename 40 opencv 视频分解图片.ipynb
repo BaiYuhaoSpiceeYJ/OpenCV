{
 "cells": [
  {
   "cell_type": "code",
   "execution_count": 5,
   "metadata": {},
   "outputs": [
    {
     "name": "stdout",
     "output_type": "stream",
     "text": [
      "<built-in method isOpened of cv2.VideoCapture object at 0x0000000005EB7C90>\n",
      "29.994926433282597 276 480\n",
      "C:\\Users\\TH\\Desktop\\DL\\source\\image1.jpg\n",
      "C:\\Users\\TH\\Desktop\\DL\\source\\image2.jpg\n",
      "C:\\Users\\TH\\Desktop\\DL\\source\\image3.jpg\n",
      "C:\\Users\\TH\\Desktop\\DL\\source\\image4.jpg\n",
      "C:\\Users\\TH\\Desktop\\DL\\source\\image5.jpg\n",
      "C:\\Users\\TH\\Desktop\\DL\\source\\image6.jpg\n",
      "C:\\Users\\TH\\Desktop\\DL\\source\\image7.jpg\n",
      "C:\\Users\\TH\\Desktop\\DL\\source\\image8.jpg\n",
      "C:\\Users\\TH\\Desktop\\DL\\source\\image9.jpg\n",
      "C:\\Users\\TH\\Desktop\\DL\\source\\image10.jpg\n",
      "end\n"
     ]
    }
   ],
   "source": [
    "#1.加载视频 2.读取信息 3.解码parce 4.imshow，imwrite\n",
    "import cv2\n",
    "cap = cv2.VideoCapture(\"1.mp4\") #打开视频\n",
    "isOpened = cap.isOpened #是否打开成功\n",
    "print(isOpened)\n",
    "fps = cap.get(cv2.CAP_PROP_FPS) #获取帧率\n",
    "width = int(cap.get(cv2.CAP_PROP_FRAME_WIDTH))#获取宽\n",
    "height = int(cap.get(cv2.CAP_PROP_FRAME_HEIGHT))#获取高\n",
    "print(fps,width,height)\n",
    "\n",
    "i=0\n",
    "while(isOpened):\n",
    "    if i==10:\n",
    "        break\n",
    "    else:\n",
    "        i+=1\n",
    "    (flag,frame) = cap.read()#读取每一帧，flag是否读取成功，frame图片内容\n",
    "    fileName = 'C:\\\\Users\\TH\\Desktop\\DL\\source\\image'+str(i)+'.jpg'\n",
    "    print(fileName)\n",
    "    if flag==True:\n",
    "        cv2.imwrite(fileName,frame,[cv2.IMWRITE_JPEG_QUALITY,100])\n",
    "print('end')"
   ]
  },
  {
   "cell_type": "code",
   "execution_count": null,
   "metadata": {},
   "outputs": [],
   "source": []
  },
  {
   "cell_type": "code",
   "execution_count": null,
   "metadata": {},
   "outputs": [],
   "source": []
  },
  {
   "cell_type": "code",
   "execution_count": null,
   "metadata": {},
   "outputs": [],
   "source": []
  },
  {
   "cell_type": "code",
   "execution_count": null,
   "metadata": {},
   "outputs": [],
   "source": []
  }
 ],
 "metadata": {
  "kernelspec": {
   "display_name": "Python 3",
   "language": "python",
   "name": "python3"
  },
  "language_info": {
   "codemirror_mode": {
    "name": "ipython",
    "version": 3
   },
   "file_extension": ".py",
   "mimetype": "text/x-python",
   "name": "python",
   "nbconvert_exporter": "python",
   "pygments_lexer": "ipython3",
   "version": "3.6.5"
  }
 },
 "nbformat": 4,
 "nbformat_minor": 2
}
