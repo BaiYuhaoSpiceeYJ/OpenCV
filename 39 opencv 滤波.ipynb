{
 "cells": [
  {
   "cell_type": "code",
   "execution_count": 1,
   "metadata": {},
   "outputs": [
    {
     "ename": "SyntaxError",
     "evalue": "unexpected EOF while parsing (<ipython-input-1-49941846e65a>, line 15)",
     "output_type": "error",
     "traceback": [
      "\u001b[1;36m  File \u001b[1;32m\"<ipython-input-1-49941846e65a>\"\u001b[1;36m, line \u001b[1;32m15\u001b[0m\n\u001b[1;33m    if bb>255:\u001b[0m\n\u001b[1;37m              ^\u001b[0m\n\u001b[1;31mSyntaxError\u001b[0m\u001b[1;31m:\u001b[0m unexpected EOF while parsing\n"
     ]
    }
   ],
   "source": [
    "#普通美白\n",
    "import cv2\n",
    "import numpy as np\n",
    "import matplotlib.pyplot as plt\n",
    "img = cv2.imread('rayon=4.jpg',1)\n",
    "imgInfo = img.shape\n",
    "height = imgInfo[0]\n",
    "width = imgInfo[1]\n",
    "dst = np.zerps(imgInfo.shape,np.uint8)\n",
    "for i in range(0,height):\n",
    "    for j in range(0,width):\n",
    "        (b,g,r) = img[i,j]\n",
    "        bb = int(b+20)\n",
    "        gg = int(g+20)\n",
    "        rr = int(r+20)\n",
    "        if bb>255:\n",
    "            bb=255\n",
    "        if gg>255:\n",
    "            gg=255\n",
    "        if rr>255:\n",
    "            rr=255\n",
    "        dst[i,j] = (bb,gg,rr)\n",
    "        \n",
    "cv2.imshow('dst',dst)\n",
    "cv2.waitKey(0)"
   ]
  },
  {
   "cell_type": "code",
   "execution_count": 3,
   "metadata": {},
   "outputs": [
    {
     "data": {
      "text/plain": [
       "-1"
      ]
     },
     "execution_count": 3,
     "metadata": {},
     "output_type": "execute_result"
    }
   ],
   "source": [
    "#双边滤波\n",
    "import cv2\n",
    "import numpy as np\n",
    "img = cv2.imread('ylz.jpg',1)\n",
    "cv2.imshow('src',img)\n",
    "dst = cv2.bilateralFilter(img,15,35,35)\n",
    "cv2.imshow('dst',dst)\n",
    "cv2.imwrite('ssdfsdfsdf.jpg',dst)\n",
    "cv2.waitKey(0)"
   ]
  },
  {
   "cell_type": "code",
   "execution_count": 6,
   "metadata": {},
   "outputs": [
    {
     "data": {
      "text/plain": [
       "-1"
      ]
     },
     "execution_count": 6,
     "metadata": {},
     "output_type": "execute_result"
    }
   ],
   "source": [
    "#高斯滤波\n",
    "import cv2\n",
    "import numpy as np\n",
    "img = cv2.imread('0.jpg',1)\n",
    "cv2.imshow('src',img)\n",
    "dst = cv2.GaussianBlur(img,(5,5),1.5)\n",
    "cv2.imshow('dst',dst)\n",
    "cv2.waitKey(0)"
   ]
  },
  {
   "cell_type": "code",
   "execution_count": 8,
   "metadata": {},
   "outputs": [
    {
     "data": {
      "text/plain": [
       "-1"
      ]
     },
     "execution_count": 8,
     "metadata": {},
     "output_type": "execute_result"
    }
   ],
   "source": [
    "#均值滤波\n",
    "import cv2\n",
    "import numpy as np\n",
    "img = cv2.imread('0.jpg',1)\n",
    "cv2.imshow('src',img)\n",
    "imgInfo = img.shape\n",
    "height = imgInfo[0]\n",
    "width = imgInfo[1]\n",
    "dstImage = np.zeros(img.shape,np.uint8)\n",
    "rayon = 3\n",
    "for i in range(0,height):\n",
    "    for j in range(0,width):\n",
    "        totalBlue=0\n",
    "        totalGreen=0\n",
    "        totalRed=0\n",
    "        count=0\n",
    "        for a in range(-rayon,rayon+1):\n",
    "            for b in range(-rayon,rayon+1):\n",
    "                if(i+a<0 or i+a>height-1 or j+b<0 or j+b>width-1):\n",
    "                    continue\n",
    "                else:\n",
    "                    (blue,green,red)=img[i+a,j+b]\n",
    "                    totalBlue+=blue\n",
    "                    totalGreen+=green\n",
    "                    totalRed+=red\n",
    "                    count+=1\n",
    "                #dstImage[i,j]=(img[i+a,j+b]/(2*rayon+1)/(2*rayon+1))+dstImage[i,j]#(dstImage[i,j]+img[i+a,j+b]*1.0/rayon/rayon)\n",
    "        dstImage[i,j]=(totalBlue/count,totalGreen/count,totalRed/count)\n",
    "cv2.imshow('dst',dstImage)\n",
    "#cv2.imwrite('rayon=1.jpg',dstImage)\n",
    "cv2.waitKey(0)"
   ]
  },
  {
   "cell_type": "code",
   "execution_count": 3,
   "metadata": {},
   "outputs": [
    {
     "data": {
      "text/plain": [
       "-1"
      ]
     },
     "execution_count": 3,
     "metadata": {},
     "output_type": "execute_result"
    }
   ],
   "source": [
    "#中值滤波\n",
    "import cv2\n",
    "import numpy as np\n",
    "img = cv2.imread('0.jpg',1)\n",
    "cv2.imshow('src',img)\n",
    "imgInfo = img.shape\n",
    "height = imgInfo[0]\n",
    "width = imgInfo[1]\n",
    "img2 = cv2.cvtColor(img,cv2.COLOR_BGR2GRAY)\n",
    "dst = np.zeros(img.shape,np.uint8)\n",
    "collect = np.zeros(9,np.uint8)\n",
    "orColor = np.zeros((9,3),np.uint8)\n",
    "for i in range(1,height-1):\n",
    "    for j in range(1,width-1):\n",
    "        k = 0\n",
    "        for m in range(-1,2):\n",
    "            for n in range(-1,2):\n",
    "                gray = img2[i+m,j+n]\n",
    "                (b,g,r) = img[i+m,j+n]\n",
    "                collect[k] = gray\n",
    "                orColor[k] = (b,g,r)\n",
    "                k+=1\n",
    "        #排序\n",
    "        for k in range(0,9):\n",
    "            p1 = collect[k]\n",
    "            p_color = orColor[k]\n",
    "            for t in range(k+1,9):\n",
    "                if p1<collect[t]:\n",
    "                    mid = collect[t]\n",
    "                    mid_color = orColor[k]\n",
    "                    collect[t] = p1\n",
    "                    orColor[t] = p_color\n",
    "                    p1 = mid\n",
    "                    orColor[t] = mid_color\n",
    "        dst[i,j] = orColor[4]\n",
    "cv2.imshow('dst',dst)\n",
    "cv2.waitKey(0)"
   ]
  },
  {
   "cell_type": "code",
   "execution_count": null,
   "metadata": {},
   "outputs": [],
   "source": []
  }
 ],
 "metadata": {
  "kernelspec": {
   "display_name": "Python 3",
   "language": "python",
   "name": "python3"
  },
  "language_info": {
   "codemirror_mode": {
    "name": "ipython",
    "version": 3
   },
   "file_extension": ".py",
   "mimetype": "text/x-python",
   "name": "python",
   "nbconvert_exporter": "python",
   "pygments_lexer": "ipython3",
   "version": "3.6.5"
  }
 },
 "nbformat": 4,
 "nbformat_minor": 2
}
