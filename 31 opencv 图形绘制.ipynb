{
 "cells": [
  {
   "cell_type": "code",
   "execution_count": 19,
   "metadata": {},
   "outputs": [
    {
     "name": "stdout",
     "output_type": "stream",
     "text": [
      "(5, 2)\n",
      "(5, 1, 2)\n"
     ]
    },
    {
     "data": {
      "text/plain": [
       "-1"
      ]
     },
     "execution_count": 19,
     "metadata": {},
     "output_type": "execute_result"
    }
   ],
   "source": [
    "import cv2\n",
    "import numpy as np\n",
    "newImageInfo = (500,500,3)\n",
    "dst = np.zeros(newImageInfo,np.uint8)\n",
    "cv2.rectangle(dst,(50,100),(200,300),(255,0,0),5)\n",
    "#1：目标图片 2：左上角 3:右下角 4：颜色 5：是否填充 小于0填充，大于等于0不填充，但会改变边框宽度\n",
    "cv2.circle(dst,(250,250),(50),(0,255,0),-1)#2：圆心 3：半径 \n",
    "cv2.ellipse(dst,(256,256),(150,100),0,0,180,(255,255,0),-1)\n",
    "#1： 目标图片 2：圆心 3：轴长 4：偏转角度 5：起始角度 6：终止角度 7：颜色 8：填充\n",
    "points = np.array([[150,50],[140,140],[200,170],[250,250],[150,50]],np.int32)\n",
    "print(points.shape)\n",
    "points = points.reshape((-1,1,2)) #维度转换\n",
    "print(points.shape)\n",
    "cv2.polylines(dst,[points],True,(0,255,255))\n",
    "cv2.imshow('dst',dst)\n",
    "#cv2.imwrite('graph.jpg',dst)\n",
    "cv2.waitKey(0)"
   ]
  },
  {
   "cell_type": "code",
   "execution_count": null,
   "metadata": {},
   "outputs": [],
   "source": []
  }
 ],
 "metadata": {
  "kernelspec": {
   "display_name": "Python 3",
   "language": "python",
   "name": "python3"
  },
  "language_info": {
   "codemirror_mode": {
    "name": "ipython",
    "version": 3
   },
   "file_extension": ".py",
   "mimetype": "text/x-python",
   "name": "python",
   "nbconvert_exporter": "python",
   "pygments_lexer": "ipython3",
   "version": "3.6.5"
  }
 },
 "nbformat": 4,
 "nbformat_minor": 2
}
