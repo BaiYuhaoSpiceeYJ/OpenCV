{
 "cells": [
  {
   "cell_type": "code",
   "execution_count": 4,
   "metadata": {},
   "outputs": [
    {
     "data": {
      "text/plain": [
       "-1"
      ]
     },
     "execution_count": 4,
     "metadata": {},
     "output_type": "execute_result"
    }
   ],
   "source": [
    "import cv2\n",
    "import numpy as np\n",
    "img = cv2.imread('1.jpg',1)\n",
    "cv2.imshow('src',img)\n",
    "imgInfo = img.shape\n",
    "height = imgInfo[0]\n",
    "width = imgInfo[1]\n",
    "dst = np.zeros(img.shape,np.uint8)\n",
    "percent = 35.0\n",
    "percent = percent/100\n",
    "\n",
    "for i in range(0,height):\n",
    "    for j in range(0,width):\n",
    "        (b,g,r) = img[i,j]\n",
    "        b=int(b)\n",
    "        g=int(g)\n",
    "        r=int(r)\n",
    "        bgrMax = max(b,max(g,r))\n",
    "        bgrMin = min(b,min(g,r))\n",
    "        csum = (bgrMax+bgrMin)/255.0\n",
    "        delta = (bgrMax-bgrMin)/255.0\n",
    "        l = csum/2\n",
    "        if delta==0:\n",
    "            continue\n",
    "        \n",
    "        if l<0.5:\n",
    "            sat = delta/csum\n",
    "        else:\n",
    "            sat = delta/(2-csum)\n",
    "        \n",
    "        if percent>0:\n",
    "            if (sat+percent)>=1:\n",
    "                alpha = sat\n",
    "            else:\n",
    "                alpha = 1-percent\n",
    "            alpha=1/alpha-1\n",
    "            newR = r+(r-l*255)*alpha\n",
    "            newG = g+(g-l*255)*alpha\n",
    "            newB = b+(b-l*255)*alpha\n",
    "            dst[i,j] = (newB,newG,newR)\n",
    "        else:\n",
    "            alpha = percent\n",
    "            newR = l*255+(r-l*255)*(1+alpha)\n",
    "            newG = l*255+(g-l*255)*(1+alpha)\n",
    "            newB = l*255+(b-l*255)*(1+alpha)\n",
    "            dst[i,j] = (newB,newG,newR)\n",
    "            \n",
    "            \n",
    "            \n",
    "cv2.imshow('dst',dst)\n",
    "cv2.imwrite('saturate.jpg',dst)\n",
    "cv2.waitKey(0)"
   ]
  },
  {
   "cell_type": "code",
   "execution_count": null,
   "metadata": {},
   "outputs": [],
   "source": []
  },
  {
   "cell_type": "code",
   "execution_count": null,
   "metadata": {},
   "outputs": [],
   "source": []
  }
 ],
 "metadata": {
  "kernelspec": {
   "display_name": "Python 3",
   "language": "python",
   "name": "python3"
  },
  "language_info": {
   "codemirror_mode": {
    "name": "ipython",
    "version": 3
   },
   "file_extension": ".py",
   "mimetype": "text/x-python",
   "name": "python",
   "nbconvert_exporter": "python",
   "pygments_lexer": "ipython3",
   "version": "3.6.5"
  }
 },
 "nbformat": 4,
 "nbformat_minor": 2
}
