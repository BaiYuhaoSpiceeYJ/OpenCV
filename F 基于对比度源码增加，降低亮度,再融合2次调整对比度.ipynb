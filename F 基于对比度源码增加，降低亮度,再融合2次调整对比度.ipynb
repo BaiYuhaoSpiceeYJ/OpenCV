{
 "cells": [
  {
   "cell_type": "code",
   "execution_count": 5,
   "metadata": {},
   "outputs": [
    {
     "data": {
      "image/png": "[encoded data removed]",
      "text/plain": [
       "<Figure size 432x288 with 1 Axes>"
      ]
     },
     "metadata": {},
     "output_type": "display_data"
    },
    {
     "data": {
      "image/png": "[encoded data removed]",
      "text/plain": [
       "<Figure size 432x288 with 1 Axes>"
      ]
     },
     "metadata": {},
     "output_type": "display_data"
    },
    {
     "data": {
      "text/plain": [
       "-1"
      ]
     },
     "execution_count": 5,
     "metadata": {},
     "output_type": "execute_result"
    }
   ],
   "source": [
    "#增加亮度\n",
    "import cv2\n",
    "import numpy as np\n",
    "import matplotlib.pyplot as plt\n",
    "img = cv2.imread('1.jpg',1)\n",
    "imgInfo = img.shape\n",
    "height = imgInfo[0]\n",
    "width = imgInfo[1]\n",
    "gray = cv2.cvtColor(img,cv2.COLOR_BGR2GRAY)\n",
    "dst = np.zeros(img.shape,np.uint8)\n",
    "dst_gray = np.zeros((height,width,1),np.uint8)\n",
    "count = np.zeros(256,np.float32)\n",
    "rflxChange = 50#改变量百分比，确定图像的直方图伸缩比例，为主要参数\n",
    "rflxChange /= 100\n",
    "\n",
    "\n",
    "for i in range(0,height):#计算概率分布\n",
    "    for j in range(0,width):\n",
    "        pixel = gray[i,j]\n",
    "        index = int(pixel)\n",
    "        count[index]+=1\n",
    "     \n",
    "    \n",
    "for i in range(0,256):#归一化\n",
    "    count[i] /=height*width\n",
    "sumCount = float(0)\n",
    "newCount = np.zeros(256,np.float32)\n",
    "for i in range(0,255):#概率分布积分\n",
    "    sumCount+=count[i]\n",
    "    newCount[i]=sumCount\n",
    "    \n",
    "    \n",
    "area_mid = 0   #增加亮度     \n",
    "for i in range(0,height):#计算映射表及映射\n",
    "    for j in range(0,width):\n",
    "        newGray=area_mid-(area_mid-gray[i,j])*(1+rflxChange)\n",
    "        if newGray > 255:\n",
    "            newGray=255\n",
    "        if newGray < 0:\n",
    "            newGray=0\n",
    "        dst_gray[i,j]=newGray\n",
    "        \n",
    "        \n",
    "for i in range(0,height):#GRAY2BGR\n",
    "    for j in range(0,width):\n",
    "        (b,g,r) = img[i,j]\n",
    "        if gray[i,j]!=0:\n",
    "            b*= dst_gray[i,j]/gray[i,j]\n",
    "            g*= dst_gray[i,j]/gray[i,j]\n",
    "            r*= dst_gray[i,j]/gray[i,j]\n",
    "            if b>255:\n",
    "                b=255\n",
    "            if b<0:\n",
    "                b=0\n",
    "            if g>255:\n",
    "                g=255\n",
    "            if g<0:\n",
    "                g=0\n",
    "            if r>255:\n",
    "                r=255\n",
    "            if r<0:\n",
    "                r=0\n",
    "        dst[i,j] = (b,g,r)\n",
    "\n",
    "\n",
    "count = np.zeros(256,np.float32)#输出原图直方图\n",
    "for i in range(0,height):\n",
    "    for j in range(0,width):\n",
    "        pixel = gray[i,j]\n",
    "        index = int(pixel)\n",
    "        count[index]+=1\n",
    "for i in range(0,256):\n",
    "    count[i] /=height*width\n",
    "x = np.linspace(0,255,256)#0-255,256等分\n",
    "y = count\n",
    "plt.bar(x,y,1.0,alpha=1,color='g')\n",
    "plt.show()\n",
    "plt.figure()\n",
    "\n",
    "\n",
    "count = np.zeros(256,np.float32)#输出新图直方图\n",
    "for i in range(0,height):\n",
    "    for j in range(0,width):\n",
    "        pixel = dst_gray[i,j]\n",
    "        index = int(pixel)\n",
    "        count[index]+=1\n",
    "for i in range(0,256):\n",
    "    count[i] /=height*width\n",
    "x = np.linspace(0,255,256)#0-255,256等分\n",
    "y = count\n",
    "plt.bar(x,y,1.0,alpha=1,color='g')\n",
    "plt.show()\n",
    "\n",
    "        \n",
    "cv2.imshow('dst',dst)\n",
    "cv2.imshow('src',img)\n",
    "cv2.imwrite('high.jpg',dst)\n",
    "cv2.waitKey(0)"
   ]
  },
  {
   "cell_type": "code",
   "execution_count": 7,
   "metadata": {},
   "outputs": [
    {
     "data": {
      "image/png": "[encoded data removed]",
      "text/plain": [
       "<Figure size 432x288 with 1 Axes>"
      ]
     },
     "metadata": {},
     "output_type": "display_data"
    },
    {
     "data": {
      "image/png": "[encoded data removed]",
      "text/plain": [
       "<Figure size 432x288 with 1 Axes>"
      ]
     },
     "metadata": {},
     "output_type": "display_data"
    },
    {
     "data": {
      "text/plain": [
       "-1"
      ]
     },
     "execution_count": 7,
     "metadata": {},
     "output_type": "execute_result"
    }
   ],
   "source": [
    "#降低亮度\n",
    "import cv2\n",
    "import numpy as np\n",
    "import matplotlib.pyplot as plt\n",
    "img = cv2.imread('1.jpg',1)\n",
    "imgInfo = img.shape\n",
    "height = imgInfo[0]\n",
    "width = imgInfo[1]\n",
    "gray = cv2.cvtColor(img,cv2.COLOR_BGR2GRAY)\n",
    "dst = np.zeros(img.shape,np.uint8)\n",
    "dst_gray = np.zeros((height,width,1),np.uint8)\n",
    "count = np.zeros(256,np.float32)\n",
    "rflxChange = 50#改变量百分比，确定图像的直方图伸缩比例，为主要参数\n",
    "rflxChange /= 100\n",
    "\n",
    "\n",
    "for i in range(0,height):#计算概率分布\n",
    "    for j in range(0,width):\n",
    "        pixel = gray[i,j]\n",
    "        index = int(pixel)\n",
    "        count[index]+=1\n",
    "     \n",
    "    \n",
    "for i in range(0,256):#归一化\n",
    "    count[i] /=height*width\n",
    "sumCount = float(0)\n",
    "newCount = np.zeros(256,np.float32)\n",
    "for i in range(0,255):#概率分布积分\n",
    "    sumCount+=count[i]\n",
    "    newCount[i]=sumCount\n",
    "    \n",
    "    \n",
    "area_mid = 255   #降低亮度     \n",
    "for i in range(0,height):#计算映射表及映射\n",
    "    for j in range(0,width):\n",
    "        newGray=area_mid-(area_mid-gray[i,j])*(1+rflxChange)\n",
    "        if newGray > 255:\n",
    "            newGray=255\n",
    "        if newGray < 0:\n",
    "            newGray=0\n",
    "        dst_gray[i,j]=newGray\n",
    "        \n",
    "        \n",
    "for i in range(0,height):#GRAY2BGR\n",
    "    for j in range(0,width):\n",
    "        (b,g,r) = img[i,j]\n",
    "        if gray[i,j]!=0:\n",
    "            b*= dst_gray[i,j]/gray[i,j]\n",
    "            g*= dst_gray[i,j]/gray[i,j]\n",
    "            r*= dst_gray[i,j]/gray[i,j]\n",
    "            if b>255:\n",
    "                b=255\n",
    "            if b<0:\n",
    "                b=0\n",
    "            if g>255:\n",
    "                g=255\n",
    "            if g<0:\n",
    "                g=0\n",
    "            if r>255:\n",
    "                r=255\n",
    "            if r<0:\n",
    "                r=0\n",
    "        dst[i,j] = (b,g,r)\n",
    "\n",
    "\n",
    "count = np.zeros(256,np.float32)#输出原图直方图\n",
    "for i in range(0,height):\n",
    "    for j in range(0,width):\n",
    "        pixel = gray[i,j]\n",
    "        index = int(pixel)\n",
    "        count[index]+=1\n",
    "for i in range(0,256):\n",
    "    count[i] /=height*width\n",
    "x = np.linspace(0,255,256)#0-255,256等分\n",
    "y = count\n",
    "plt.bar(x,y,1.0,alpha=1,color='g')\n",
    "plt.show()\n",
    "plt.figure()\n",
    "\n",
    "\n",
    "count = np.zeros(256,np.float32)#输出新图直方图\n",
    "for i in range(0,height):\n",
    "    for j in range(0,width):\n",
    "        pixel = dst_gray[i,j]\n",
    "        index = int(pixel)\n",
    "        count[index]+=1\n",
    "for i in range(0,256):\n",
    "    count[i] /=height*width\n",
    "x = np.linspace(0,255,256)#0-255,256等分\n",
    "y = count\n",
    "plt.bar(x,y,1.0,alpha=1,color='g')\n",
    "plt.show()\n",
    "\n",
    "        \n",
    "cv2.imshow('dst',dst)\n",
    "cv2.imshow('src',img)\n",
    "cv2.imwrite('low.jpg',dst)\n",
    "cv2.waitKey(0)"
   ]
  },
  {
   "cell_type": "code",
   "execution_count": 8,
   "metadata": {},
   "outputs": [
    {
     "data": {
      "text/plain": [
       "-1"
      ]
     },
     "execution_count": 8,
     "metadata": {},
     "output_type": "execute_result"
    }
   ],
   "source": [
    "#hdr\n",
    "import cv2\n",
    "import numpy as np\n",
    "img0 = cv2.imread('high.jpg',1)\n",
    "img1 = cv2.imread('low.jpg',1)\n",
    "img = cv2.imread('1.jpg',1)\n",
    "imgInfo = img0.shape\n",
    "height = imgInfo[0]\n",
    "width = imgInfo[1]\n",
    "#定义感兴趣范围\n",
    "roiH = int(height)\n",
    "roiW = int(width)\n",
    "img0ROI = img0[0:roiH,0:roiW]\n",
    "img1ROI = img1[0:roiH,0:roiW]\n",
    "dst = np.zeros((roiH,roiW,3),np.uint8)\n",
    "dst = cv2.addWeighted(img0ROI,0.5,img1ROI,0.5,0)#dst=src1*a+src2*(1-a)\n",
    "cv2.imwrite('hdr.jpg',dst)\n",
    "dst = cv2.addWeighted(dst,0.55,img,0.45,0)\n",
    "cv2.imshow('hdr',dst)\n",
    "cv2.imwrite('hdr2.jpg',dst)\n",
    "cv2.waitKey(0)"
   ]
  },
  {
   "cell_type": "code",
   "execution_count": null,
   "metadata": {},
   "outputs": [],
   "source": []
  },
  {
   "cell_type": "code",
   "execution_count": null,
   "metadata": {},
   "outputs": [],
   "source": []
  }
 ],
 "metadata": {
  "kernelspec": {
   "display_name": "Python 3",
   "language": "python",
   "name": "python3"
  },
  "language_info": {
   "codemirror_mode": {
    "name": "ipython",
    "version": 3
   },
   "file_extension": ".py",
   "mimetype": "text/x-python",
   "name": "python",
   "nbconvert_exporter": "python",
   "pygments_lexer": "ipython3",
   "version": "3.6.5"
  }
 },
 "nbformat": 4,
 "nbformat_minor": 2
}
